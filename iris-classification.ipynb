{
 "cells": [
  {
   "cell_type": "code",
   "execution_count": null,
   "id": "87142cfb-2475-49b4-bab4-278847f50878",
   "metadata": {},
   "outputs": [],
   "source": [
    "# Importing Library\n",
    "import pandas as pd\n",
    "import numpy as np\n",
    "from sklearn.model_selection import train_test_split\n",
    "from sklearn.ensemble import RandomForestClassifier\n",
    "from sklearn.metrics import accuracy_score\n",
    "\n",
    "# 🎲 시드 값 고정 (재현 가능성 확보)\n",
    "np.random.seed(42)\n",
    "\n",
    "# 📂 데이터셋 불러오기 (iris.data 파일이 동일 폴더에 있어야 함)\n",
    "file_path = '/Users/dean/Desktop/iris/iris.data'\n",
    "\n",
    "# 데이터셋에 컬럼 이름 추가\n",
    "columns = ['sepal_length', 'sepal_width', 'petal_length', 'petal_width', 'species']\n",
    "df = pd.read_csv(file_path, header=None, names=columns)\n",
    "\n",
    "# 랜덤으로 5개 행을 출력\n",
    "random_samples = df.sample(n=5)\n",
    "print(\"Random five samples:\")\n",
    "print(random_samples)\n",
    "\n",
    "# 🎨 종(species) 컬럼을 숫자로 변환 (Setosa → 0, Versicolor → 1, Virginica → 2)\n",
    "df['species'] = df['species'].astype('category').cat.codes\n",
    "\n",
    "# 🧪 데이터 분할 (학습용/테스트용)\n",
    "X = df.drop('species', axis=1)  # Features (입력 데이터)\n",
    "y = df['species']  # Target (출력 데이터)\n",
    "X_train, X_test, y_train, y_test = train_test_split(X, y, test_size=0.2, random_state=42)\n",
    "\n",
    "# 🤖 모델 훈련 (Random Forest)\n",
    "model = RandomForestClassifier(random_state=42)\n",
    "model.fit(X_train, y_train)\n",
    "\n",
    "# 🔍 예측 및 평가\n",
    "y_pred = model.predict(X_test)\n",
    "accuracy = accuracy_score(y_test, y_pred)\n",
    "print(f\"Model Accuracy: {accuracy:.2f}\")\n",
    "\n",
    "# 📊 Data Visualization\n",
    "import matplotlib.pyplot as plt\n",
    "import seaborn as sns\n",
    "\n",
    "sns.pairplot(df, hue='species', palette='coolwarm')\n",
    "plt.show()"
   ]
  }
 ],
 "metadata": {
  "kernelspec": {
   "display_name": "Python 3 (ipykernel)",
   "language": "python",
   "name": "python3"
  },
  "language_info": {
   "codemirror_mode": {
    "name": "ipython",
    "version": 3
   },
   "file_extension": ".py",
   "mimetype": "text/x-python",
   "name": "python",
   "nbconvert_exporter": "python",
   "pygments_lexer": "ipython3",
   "version": "3.12.4"
  }
 },
 "nbformat": 4,
 "nbformat_minor": 5
}
