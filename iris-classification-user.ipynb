{
 "cells": [
  {
   "cell_type": "code",
   "execution_count": null,
   "id": "0d5212de-f554-4c2e-ac71-e0dfe824379e",
   "metadata": {},
   "outputs": [],
   "source": [
    "import pandas as pd\n",
    "import numpy as np\n",
    "from sklearn.model_selection import train_test_split\n",
    "from sklearn.ensemble import RandomForestClassifier\n",
    "from sklearn.metrics import accuracy_score\n",
    "\n",
    "# 🎲 Set random seed (ensure reproducibility)\n",
    "np.random.seed(42)\n",
    "\n",
    "# 📂 Load dataset (set file path)\n",
    "file_path = '/Users/dean/Desktop/iris/iris.data'\n",
    "columns = ['sepal_length', 'sepal_width', 'petal_length', 'petal_width', 'species']\n",
    "df = pd.read_csv(file_path, header=None, names=columns)\n",
    "\n",
    "# 🎨 Convert species column to numeric values\n",
    "df['species'] = df['species'].astype('category').cat.codes\n",
    "\n",
    "# 🧪 Split data into training and testing sets\n",
    "X = df.drop('species', axis=1)  # Features (input data)\n",
    "y = df['species']  # Target (output data)\n",
    "X_train, X_test, y_train, y_test = train_test_split(X, y, test_size=0.2, random_state=42)\n",
    "\n",
    "# 🤖 Train model (using Random Forest)\n",
    "model = RandomForestClassifier(random_state=42)\n",
    "model.fit(X_train, y_train)\n",
    "\n",
    "# 🔍 Predict function based on user input\n",
    "def predict_iris():\n",
    "    print(\"Enter Iris flower measurements:\")\n",
    "\n",
    "    # Get user input\n",
    "    sepal_length = float(input(\"Enter sepal length: \"))\n",
    "    sepal_width = float(input(\"Enter sepal width: \"))\n",
    "    petal_length = float(input(\"Enter petal length: \"))\n",
    "    petal_width = float(input(\"Enter petal width: \"))\n",
    "\n",
    "    # Convert input into DataFrame instead of array\n",
    "    input_data = pd.DataFrame([[sepal_length, sepal_width, petal_length, petal_width]],\n",
    "    columns=['sepal_length', 'sepal_width', 'petal_length', 'petal_width'])\n",
    "\n",
    "    # Model prediction\n",
    "    prediction = model.predict(input_data)\n",
    "    \n",
    "    # Interpret prediction result\n",
    "    species_dict = {0: 'Setosa', 1: 'Versicolor', 2: 'Virginica'}\n",
    "    print(f\"Predicted species: {species_dict[prediction[0]]}\")\n",
    "\n",
    "# 📢 Run prediction function\n",
    "predict_iris()"
   ]
  }
 ],
 "metadata": {
  "kernelspec": {
   "display_name": "Python 3 (ipykernel)",
   "language": "python",
   "name": "python3"
  },
  "language_info": {
   "codemirror_mode": {
    "name": "ipython",
    "version": 3
   },
   "file_extension": ".py",
   "mimetype": "text/x-python",
   "name": "python",
   "nbconvert_exporter": "python",
   "pygments_lexer": "ipython3",
   "version": "3.12.4"
  }
 },
 "nbformat": 4,
 "nbformat_minor": 5
}
