{
 "cells": [
  {
   "cell_type": "code",
   "execution_count": null,
   "id": "87142cfb-2475-49b4-bab4-278847f50878",
   "metadata": {},
   "outputs": [
    {
     "ename": "",
     "evalue": "",
     "output_type": "error",
     "traceback": [
      "\u001b[1;31mRunning cells with 'Python 3.13.1' requires the ipykernel package.\n",
      "\u001b[1;31mRun the following command to install 'ipykernel' into the Python environment. \n",
      "\u001b[1;31mCommand: '/usr/local/bin/python3 -m pip install ipykernel -U --user --force-reinstall'"
     ]
    }
   ],
   "source": [
    "# Importing Libraries\n",
    "import pandas as pd\n",
    "import numpy as np\n",
    "from sklearn.model_selection import train_test_split\n",
    "from sklearn.ensemble import RandomForestClassifier\n",
    "from sklearn.metrics import accuracy_score\n",
    "\n",
    "# 🎲 Set random seed (ensure reproducibility)\n",
    "np.random.seed(42)\n",
    "\n",
    "# 📂 Load dataset (iris.data file must be in the same folder)\n",
    "file_path = '/Users/dean/Desktop/iris/iris.data'\n",
    "\n",
    "# Add column names to the dataset\n",
    "columns = ['sepal_length', 'sepal_width', 'petal_length', 'petal_width', 'species']\n",
    "df = pd.read_csv(file_path, header=None, names=columns)\n",
    "\n",
    "# Print 5 random samples\n",
    "random_samples = df.sample(n=5)\n",
    "print(\"Random five samples:\")\n",
    "print(random_samples)\n",
    "\n",
    "# 🎨 Convert species column to numeric values (Setosa → 0, Versicolor → 1, Virginica → 2)\n",
    "df['species'] = df['species'].astype('category').cat.codes\n",
    "\n",
    "# 🧪 Split data into training and testing sets\n",
    "X = df.drop('species', axis=1)  # Features (input data)\n",
    "y = df['species']  # Target (output data)\n",
    "X_train, X_test, y_train, y_test = train_test_split(X, y, test_size=0.2, random_state=42)\n",
    "\n",
    "# 🤖 Train model (Random Forest)\n",
    "model = RandomForestClassifier(random_state=42)\n",
    "model.fit(X_train, y_train)\n",
    "\n",
    "# 🔍 Prediction and evaluation\n",
    "y_pred = model.predict(X_test)\n",
    "accuracy = accuracy_score(y_test, y_pred)\n",
    "print(f\"Model Accuracy: {accuracy:.2f}\")\n",
    "\n",
    "# 📊 Data Visualization\n",
    "import matplotlib.pyplot as plt\n",
    "import seaborn as sns\n",
    "\n",
    "sns.pairplot(df, hue='species', palette='coolwarm')\n",
    "plt.show()"
   ]
  }
 ],
 "metadata": {
  "kernelspec": {
   "display_name": "Python 3",
   "language": "python",
   "name": "python3"
  },
  "language_info": {
   "codemirror_mode": {
    "name": "ipython",
    "version": 3
   },
   "file_extension": ".py",
   "mimetype": "text/x-python",
   "name": "python",
   "nbconvert_exporter": "python",
   "pygments_lexer": "ipython3",
   "version": "3.13.1"
  }
 },
 "nbformat": 4,
 "nbformat_minor": 5
}
