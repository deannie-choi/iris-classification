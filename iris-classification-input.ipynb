{
 "cells": [
  {
   "cell_type": "code",
   "execution_count": null,
   "id": "0d5212de-f554-4c2e-ac71-e0dfe824379e",
   "metadata": {},
   "outputs": [],
   "source": [
    "import pandas as pd\n",
    "import numpy as np\n",
    "from sklearn.model_selection import train_test_split\n",
    "from sklearn.ensemble import RandomForestClassifier\n",
    "from sklearn.metrics import accuracy_score\n",
    "\n",
    "# 🎲 시드 값 고정 (재현 가능성 확보)\n",
    "np.random.seed(42)\n",
    "\n",
    "# 📂 데이터셋 불러오기 (파일 경로 설정)\n",
    "file_path = '/Users/dean/Desktop/iris/iris.data'\n",
    "columns = ['sepal_length', 'sepal_width', 'petal_length', 'petal_width', 'species']\n",
    "df = pd.read_csv(file_path, header=None, names=columns)\n",
    "\n",
    "# 🎨 종(species) 컬럼을 숫자로 변환\n",
    "df['species'] = df['species'].astype('category').cat.codes\n",
    "\n",
    "# 🧪 데이터 분할 (학습용/테스트용)\n",
    "X = df.drop('species', axis=1)  # Features (입력 데이터)\n",
    "y = df['species']  # Target (출력 데이터)\n",
    "X_train, X_test, y_train, y_test = train_test_split(X, y, test_size=0.2, random_state=42)\n",
    "\n",
    "# 🤖 모델 훈련 (Random Forest 사용)\n",
    "model = RandomForestClassifier(random_state=42)\n",
    "model.fit(X_train, y_train)\n",
    "\n",
    "# 🔍 사용자 입력 기반 예측 함수\n",
    "def predict_iris():\n",
    "    print(\"Iris 꽃의 데이터를 입력하세요.\")\n",
    "    \n",
    "    # 사용자 입력 받기\n",
    "    sepal_length = float(input(\"꽃받침 길이(sepal_length)를 입력하세요: \"))\n",
    "    sepal_width = float(input(\"꽃받침 너비(sepal_width)를 입력하세요: \"))\n",
    "    petal_length = float(input(\"꽃잎 길이(petal_length)를 입력하세요: \"))\n",
    "    petal_width = float(input(\"꽃잎 너비(petal_width)를 입력하세요: \"))\n",
    "    \n",
    "    # 입력 데이터를 배열이 아닌 DataFrame으로 변환\n",
    "    input_data = pd.DataFrame([[sepal_length, sepal_width, petal_length, petal_width]],\n",
    "    columns=['sepal_length', 'sepal_width', 'petal_length', 'petal_width'])\n",
    "\n",
    "    # 모델 예측\n",
    "    prediction = model.predict(input_data)\n",
    "    \n",
    "    # 예측 결과 해석\n",
    "    species_dict = {0: 'Setosa', 1: 'Versicolor', 2: 'Virginica'}\n",
    "    print(f\"예측된 품종: {species_dict[prediction[0]]}\")\n",
    "\n",
    "# 📢 예측 함수 실행\n",
    "predict_iris()"
   ]
  }
 ],
 "metadata": {
  "kernelspec": {
   "display_name": "Python 3 (ipykernel)",
   "language": "python",
   "name": "python3"
  },
  "language_info": {
   "codemirror_mode": {
    "name": "ipython",
    "version": 3
   },
   "file_extension": ".py",
   "mimetype": "text/x-python",
   "name": "python",
   "nbconvert_exporter": "python",
   "pygments_lexer": "ipython3",
   "version": "3.12.4"
  }
 },
 "nbformat": 4,
 "nbformat_minor": 5
}
